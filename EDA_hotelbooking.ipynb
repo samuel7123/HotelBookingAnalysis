{
  "nbformat": 4,
  "nbformat_minor": 0,
  "metadata": {
    "colab": {
      "private_outputs": true,
      "provenance": [],
      "collapsed_sections": [
        "FJNUwmbgGyua",
        "Y3lxredqlCYt",
        "x71ZqKXriCWQ",
        "7hBIi_osiCS2",
        "JlHwYmJAmNHm",
        "35m5QtbWiB9F",
        "PoPl-ycgm1ru",
        "H0kj-8xxnORC",
        "nA9Y7ga8ng1Z",
        "PBTbrJXOngz2",
        "u3PMJOP6ngxN",
        "dauF4eBmngu3",
        "bKJF3rekwFvQ",
        "MSa1f5Uengrz",
        "GF8Ens_Soomf",
        "0wOQAZs5pc--",
        "K5QZ13OEpz2H",
        "lQ7QKXXCp7Bj",
        "448CDAPjqfQr",
        "KSlN3yHqYklG",
        "t6dVpIINYklI",
        "ijmpgYnKYklI",
        "-JiQyfWJYklI",
        "EM7whBJCYoAo",
        "fge-S5ZAYoAp",
        "85gYPyotYoAp",
        "RoGjAbkUYoAp",
        "4Of9eVA-YrdM",
        "iky9q4vBYrdO",
        "F6T5p64dYrdO",
        "y-Ehk30pYrdP",
        "bamQiAODYuh1",
        "QHF8YVU7Yuh3",
        "GwzvFGzlYuh3",
        "qYpmQ266Yuh3",
        "OH-pJp9IphqM",
        "bbFf2-_FphqN",
        "_ouA3fa0phqN",
        "Seke61FWphqN",
        "PIIx-8_IphqN",
        "t27r6nlMphqO",
        "r2jJGEOYphqO",
        "b0JNsNcRphqO",
        "BZR9WyysphqO",
        "jj7wYXLtphqO",
        "eZrbJ2SmphqO",
        "rFu4xreNphqO",
        "YJ55k-q6phqO",
        "gCFgpxoyphqP",
        "OVtJsKN_phqQ",
        "lssrdh5qphqQ",
        "U2RJ9gkRphqQ",
        "1M8mcRywphqQ",
        "tgIPom80phqQ",
        "JMzcOPDDphqR",
        "x-EpHcCOp1ci",
        "X_VqEhTip1ck",
        "8zGJKyg5p1ck",
        "PVzmfK_Ep1ck",
        "n3dbpmDWp1ck",
        "ylSl6qgtp1ck",
        "ZWILFDl5p1ck",
        "M7G43BXep1ck",
        "Ag9LCva-p1cl",
        "E6MkPsBcp1cl",
        "2cELzS2fp1cl",
        "3MPXvC8up1cl",
        "NC_X3p0fY2L0",
        "UV0SzAkaZNRQ",
        "YPEH6qLeZNRQ",
        "q29F0dvdveiT",
        "EXh0U9oCveiU",
        "22aHeOlLveiV",
        "JcMwzZxoAimU",
        "8G2x9gOozGDZ",
        "gCX9965dhzqZ",
        "gIfDvo9L0UH2"
      ]
    },
    "kernelspec": {
      "name": "python3",
      "display_name": "Python 3"
    },
    "language_info": {
      "name": "python"
    }
  },
  "cells": [
    {
      "cell_type": "markdown",
      "source": [
        "# **Project Name**    - Hotel Booking analysis\n",
        "\n"
      ],
      "metadata": {
        "id": "vncDsAP0Gaoa"
      }
    },
    {
      "cell_type": "markdown",
      "source": [
        "##### **Project Type**    - EDA\n",
        "##### **Contribution**    - Individual\n"
      ],
      "metadata": {
        "id": "beRrZCGUAJYm"
      }
    },
    {
      "cell_type": "markdown",
      "source": [
        "# **Project Summary -**"
      ],
      "metadata": {
        "id": "FJNUwmbgGyua"
      }
    },
    {
      "cell_type": "markdown",
      "source": [
        "The project focus on finding the pattern, behaviours in hotel booking industry. Sometimes the hotels are flooded with customers and sometimes there are very few customers . We are trying to find a solution to make sure we have customers during all times. The project focusses on parameters, factors, features that will help us give insights to attain the goal and ultimately  maximisine the profit"
      ],
      "metadata": {
        "id": "F6v_1wHtG2nS"
      }
    },
    {
      "cell_type": "markdown",
      "source": [
        "# **GitHub Link -**"
      ],
      "metadata": {
        "id": "w6K7xa23Elo4"
      }
    },
    {
      "cell_type": "markdown",
      "source": [
        "https://github.com/samuel7123/HotelBookingAnalysis"
      ],
      "metadata": {
        "id": "h1o69JH3Eqqn"
      }
    },
    {
      "cell_type": "markdown",
      "source": [
        "# **Problem Statement**\n"
      ],
      "metadata": {
        "id": "yQaldy8SH6Dl"
      }
    },
    {
      "cell_type": "markdown",
      "source": [
        "Analyze hotel booking data to uncover insights and trends that can help improve customer satisfaction, optimize operations, and increase profitability. Finding the dependencies and relations between various know features. Utilizing the relations to get visualizations and insights to increase the business"
      ],
      "metadata": {
        "id": "DpeJGUA3kjGy"
      }
    },
    {
      "cell_type": "markdown",
      "source": [
        "#### **Define Your Business Objective?**"
      ],
      "metadata": {
        "id": "PH-0ReGfmX4f"
      }
    },
    {
      "cell_type": "markdown",
      "source": [
        "Improved customer satisfaction and loyalty through personalized and data-driven service enhancements.\n",
        "Increased operational efficiency leading to cost savings and better resource utilization.\n",
        "Higher profitability through optimized pricing, marketing, and service strategies.\n",
        "Enhanced decision-making capabilities through ongoing data analysis and insights."
      ],
      "metadata": {
        "id": "PhDvGCAqmjP1"
      }
    },
    {
      "cell_type": "markdown",
      "source": [
        "# **General Guidelines** : -  "
      ],
      "metadata": {
        "id": "mDgbUHAGgjLW"
      }
    },
    {
      "cell_type": "markdown",
      "source": [
        "1.   Well-structured, formatted, and commented code is required.\n",
        "2.   Exception Handling, Production Grade Code & Deployment Ready Code will be a plus. Those students will be awarded some additional credits.\n",
        "     \n",
        "     The additional credits will have advantages over other students during Star Student selection.\n",
        "       \n",
        "             [ Note: - Deployment Ready Code is defined as, the whole .ipynb notebook should be executable in one go\n",
        "                       without a single error logged. ]\n",
        "\n",
        "3.   Each and every logic should have proper comments.\n",
        "4. You may add as many number of charts you want. Make Sure for each and every chart the following format should be answered.\n",
        "        \n",
        "\n",
        "```\n",
        "# Chart visualization code\n",
        "```\n",
        "            \n",
        "\n",
        "*   Why did you pick the specific chart?\n",
        "*   What is/are the insight(s) found from the chart?\n",
        "* Will the gained insights help creating a positive business impact?\n",
        "Are there any insights that lead to negative growth? Justify with specific reason.\n",
        "\n",
        "5. You have to create at least 20 logical & meaningful charts having important insights.\n",
        "\n",
        "\n",
        "[ Hints : - Do the Vizualization in  a structured way while following \"UBM\" Rule.\n",
        "\n",
        "U - Univariate Analysis,\n",
        "\n",
        "B - Bivariate Analysis (Numerical - Categorical, Numerical - Numerical, Categorical - Categorical)\n",
        "\n",
        "M - Multivariate Analysis\n",
        " ]\n",
        "\n",
        "\n",
        "\n"
      ],
      "metadata": {
        "id": "ZrxVaUj-hHfC"
      }
    },
    {
      "cell_type": "markdown",
      "source": [
        "# ***Let's Begin !***"
      ],
      "metadata": {
        "id": "O_i_v8NEhb9l"
      }
    },
    {
      "cell_type": "markdown",
      "source": [
        "## ***1. Know Your Data***"
      ],
      "metadata": {
        "id": "HhfV-JJviCcP"
      }
    },
    {
      "cell_type": "markdown",
      "source": [
        "### Import Libraries"
      ],
      "metadata": {
        "id": "Y3lxredqlCYt"
      }
    },
    {
      "cell_type": "code",
      "source": [
        "# Import Libraries\n",
        "import numpy as np\n",
        "import pandas as pd\n",
        "import matplotlib.pyplot as plt\n",
        "import seaborn as sns"
      ],
      "metadata": {
        "id": "M8Vqi-pPk-HR"
      },
      "execution_count": null,
      "outputs": []
    },
    {
      "cell_type": "markdown",
      "source": [
        "### Dataset Loading"
      ],
      "metadata": {
        "id": "3RnN4peoiCZX"
      }
    },
    {
      "cell_type": "code",
      "source": [
        "# Load Dataset\n",
        "df = pd.read_csv(\"/content/hotel_bookings.csv\")"
      ],
      "metadata": {
        "id": "4CkvbW_SlZ_R"
      },
      "execution_count": null,
      "outputs": []
    },
    {
      "cell_type": "markdown",
      "source": [
        "### Dataset First View"
      ],
      "metadata": {
        "id": "x71ZqKXriCWQ"
      }
    },
    {
      "cell_type": "code",
      "source": [
        "# Dataset First Look\n",
        "df.head()"
      ],
      "metadata": {
        "id": "LWNFOSvLl09H"
      },
      "execution_count": null,
      "outputs": []
    },
    {
      "cell_type": "markdown",
      "source": [
        "### Dataset Rows & Columns count"
      ],
      "metadata": {
        "id": "7hBIi_osiCS2"
      }
    },
    {
      "cell_type": "code",
      "source": [
        "# Dataset Rows & Columns count\n",
        "df.shape"
      ],
      "metadata": {
        "id": "Kllu7SJgmLij"
      },
      "execution_count": null,
      "outputs": []
    },
    {
      "cell_type": "markdown",
      "source": [
        "### Dataset Information"
      ],
      "metadata": {
        "id": "JlHwYmJAmNHm"
      }
    },
    {
      "cell_type": "code",
      "source": [
        "# Dataset Info\n",
        "df.info()"
      ],
      "metadata": {
        "id": "e9hRXRi6meOf"
      },
      "execution_count": null,
      "outputs": []
    },
    {
      "cell_type": "markdown",
      "source": [
        "#### Duplicate Values"
      ],
      "metadata": {
        "id": "35m5QtbWiB9F"
      }
    },
    {
      "cell_type": "code",
      "source": [
        "# Dataset Duplicate Value Count\n",
        "df.duplicated().sum()"
      ],
      "metadata": {
        "id": "1sLdpKYkmox0"
      },
      "execution_count": null,
      "outputs": []
    },
    {
      "cell_type": "markdown",
      "source": [
        "#### Missing Values/Null Values"
      ],
      "metadata": {
        "id": "PoPl-ycgm1ru"
      }
    },
    {
      "cell_type": "code",
      "source": [
        "# Missing Values/Null Values Count\n",
        "df.isnull().sum()"
      ],
      "metadata": {
        "id": "GgHWkxvamxVg"
      },
      "execution_count": null,
      "outputs": []
    },
    {
      "cell_type": "code",
      "source": [
        "# Visualizing the missing values\n",
        "plt.figure(figsize=(10,7))\n",
        "sns.heatmap(df.isnull(),yticklabels=False,cbar=False,cmap='crest')\n",
        "plt.show()"
      ],
      "metadata": {
        "id": "3q5wnI3om9sJ"
      },
      "execution_count": null,
      "outputs": []
    },
    {
      "cell_type": "code",
      "source": [
        "df2 = df.copy() # copying the dataset"
      ],
      "metadata": {
        "id": "xfrEWJM_BE3-"
      },
      "execution_count": null,
      "outputs": []
    },
    {
      "cell_type": "markdown",
      "source": [
        "### What did you know about your dataset?"
      ],
      "metadata": {
        "id": "H0kj-8xxnORC"
      }
    },
    {
      "cell_type": "markdown",
      "source": [
        "Dataset has 32 columns and 119390 rows . The columns country, agent, children have null values . agent and company have many null have nulls value count of   16340 and 112593 respectivelly.So we will need to drop the columns agent and company.Other columns we will need to fill the rows by either the mode or the mean value .The columns babies and children, totalOf_special request,isrepeate_customer  have datatype as float. The data type should be int, So we will need to convert the datatype to int . Index column show only the index or the order number. WE do not need the index column."
      ],
      "metadata": {
        "id": "gfoNAAC-nUe_"
      }
    },
    {
      "cell_type": "markdown",
      "source": [
        "## ***2. Understanding Your Variables***"
      ],
      "metadata": {
        "id": "nA9Y7ga8ng1Z"
      }
    },
    {
      "cell_type": "code",
      "source": [
        "# Dataset Columns\n",
        "df2.columns"
      ],
      "metadata": {
        "id": "j7xfkqrt5Ag5"
      },
      "execution_count": null,
      "outputs": []
    },
    {
      "cell_type": "code",
      "source": [
        "# Dataset Describe\n",
        "df2.describe()"
      ],
      "metadata": {
        "id": "DnOaZdaE5Q5t"
      },
      "execution_count": null,
      "outputs": []
    },
    {
      "cell_type": "markdown",
      "source": [
        "### Variables Description"
      ],
      "metadata": {
        "id": "PBTbrJXOngz2"
      }
    },
    {
      "cell_type": "markdown",
      "source": [
        "1)Hotel:Two types of Hotels : City Hotel and Resort Hotel\n",
        "2)is_canceled:if the booking was canceled (1) or not (0)\n",
        "3)lead_time : How many days customer has booked the hotel in advance\n",
        "4)arrival_date_year: year of arrival date\n",
        "5)arrival_date_month : month of arrival date\n",
        "6)arrival_date_week_number:week number for arrival date\n",
        "7)arrival_date_day_of month: Day of arrival date\n",
        "8)stays_in_weekend_nights :Number of weekend nights (saturday or sunday) the    \n",
        "               guest satyed or booked to stay at the hotel\n",
        "9)stays_in_week_nights :Number of week nights (Monday to Friday) the guest stayed or booked to stay at the hotel\n",
        "10)adults :Number of adults\n",
        "11)children : Number of children\n",
        "12)babies : Number of babies\n",
        "13)meal :Kind of meal customer has Opted for in the hotel\n",
        "BB :- Bed & Breakfast\n",
        "FB :- Full Board (Beakfast, Lunch and Dinner)\n",
        "HB :- Half Board (Breakfast and Dinner normally)\n",
        "SC/Undefined :- no meal opted\n",
        "14)Country: Code of the country customer belongs to\n",
        "15)market_segment :which segment the customer belongs to\n",
        "16)distribution_channel :How the customer has done booking direct/TA/TO\n",
        "17)is_repeated_guest :Guest coming first time (0) or not (1)\n",
        "18)previous_cancellations :Number of booking canceled by the customer prior to current booking\n",
        "19)previous_bookings_not_canceled :count of previous booking sucessfully made by the customer\n",
        "20)reserved_room_type :Type of room reserved by the customer\n",
        "21)assigned_room_type : Type of room assigned to the customer\n",
        "22)booking_changes :count of changes made to booking\n",
        "23)deposit_type : Deposit type opted by the customer\n",
        "24)agent :ID of travel agent who has made the booking\n",
        "25)company :ID of company that made booking\n",
        "26)customer_type :Type of customer\n",
        "Transient :when the booking is not part of a group or contract, and is not associated to other transient booking\n",
        "Contract:when the booking has any type of contract associated with it\n",
        "Transient_party:when the booking is transient but is associated with at least another transient booking\n",
        "Group: when the booking is associated with a group\n",
        "27)days_in_waiting_list:Number of days customer had to wait to get booking confirm\n",
        "28)adr :A hotel’s ADR, (Average Daily Rate) is the measure of the average rate paid per room that’s occupied at the property\n",
        "29)required_car_parking_spaces :if car parking is required\n",
        "30)total_of_special_requests : Number of additional special requests made by the customer\n",
        "31)reservation_status :Reservation status whether the customer has checked-in or cancelled or not shown.\n",
        "32)reservation_status_date :Date at which last reservation status was made\n",
        "\n",
        "\n"
      ],
      "metadata": {
        "id": "aJV4KIxSnxay"
      }
    },
    {
      "cell_type": "markdown",
      "source": [
        "### Check Unique Values for each variable."
      ],
      "metadata": {
        "id": "u3PMJOP6ngxN"
      }
    },
    {
      "cell_type": "code",
      "source": [
        "# Check Unique Values for each variable.\n",
        "for i in df2.columns:\n",
        "  print(i,df[i].unique())"
      ],
      "metadata": {
        "id": "zms12Yq5n-jE"
      },
      "execution_count": null,
      "outputs": []
    },
    {
      "cell_type": "markdown",
      "source": [
        "## 3. ***Data Wrangling***"
      ],
      "metadata": {
        "id": "dauF4eBmngu3"
      }
    },
    {
      "cell_type": "markdown",
      "source": [
        "### Data Wrangling Code"
      ],
      "metadata": {
        "id": "bKJF3rekwFvQ"
      }
    },
    {
      "cell_type": "code",
      "source": [
        "# Write your code to make your dataset analysis ready.\n",
        "df2.drop(['agent','company'],axis=1,inplace=True) # they contain more null values and lead_time has only zero value\n",
        "\n"
      ],
      "metadata": {
        "id": "wk-9a2fpoLcV"
      },
      "execution_count": null,
      "outputs": []
    },
    {
      "cell_type": "code",
      "source": [
        "df2[\"children\"].fillna(df2['children'].mode()[0],inplace=True) # replacing the null values in the children column with the mode values\n",
        "df2[\"country\"].fillna(df2['country'].mode()[0],inplace=True) # replacing the nullvalues in the country columns with the more values"
      ],
      "metadata": {
        "id": "EIMJzfFiG2Pv"
      },
      "execution_count": null,
      "outputs": []
    },
    {
      "cell_type": "code",
      "source": [
        "df2.isnull().sum() # There are no null values"
      ],
      "metadata": {
        "id": "OMrYfYdzKiOr"
      },
      "execution_count": null,
      "outputs": []
    },
    {
      "cell_type": "markdown",
      "source": [
        "### What all manipulations have you done and insights you found?"
      ],
      "metadata": {
        "id": "MSa1f5Uengrz"
      }
    },
    {
      "cell_type": "markdown",
      "source": [
        "We have droped the agent and the company column as they had maximun number of null vallues.\n",
        "WE have changed the datatype of the children column.\n",
        "We have filled the mode values in the children adn the country column\n"
      ],
      "metadata": {
        "id": "LbyXE7I1olp8"
      }
    },
    {
      "cell_type": "code",
      "source": [
        "df2['children'] = df2['children'].astype(int) # changing the datatype of the children column to int"
      ],
      "metadata": {
        "id": "E8HBaOcTIj8t"
      },
      "execution_count": null,
      "outputs": []
    },
    {
      "cell_type": "code",
      "source": [
        "# Write your code to make your dataset analysis ready.\n",
        "#finding out outlier in each column\n",
        "plt.rc('font', size=15)\n",
        "plt.figure(figsize=(30,15))\n",
        "sns.boxplot(data=df2[['is_canceled','lead_time','arrival_date_week_number','adults','babies','previous_cancellations','booking_changes','days_in_waiting_list','adr','total_of_special_requests']])\n",
        "plt.show()"
      ],
      "metadata": {
        "id": "omp9gkYlQfFY"
      },
      "execution_count": null,
      "outputs": []
    },
    {
      "cell_type": "code",
      "source": [
        "#After checking for each column only in these columns outliers are present\n",
        "#lead_time, adr, days_in_waiting_list\n",
        "plt.rc('font', size=20)\n",
        "plt.figure(figsize=(30,15))\n",
        "sns.boxplot(data=df2[['lead_time','days_in_waiting_list','adr']])\n",
        "plt.show()"
      ],
      "metadata": {
        "id": "6awiews7Hc7H"
      },
      "execution_count": null,
      "outputs": []
    },
    {
      "cell_type": "code",
      "source": [],
      "metadata": {
        "id": "g5IUxsq4CZWJ"
      },
      "execution_count": null,
      "outputs": []
    },
    {
      "cell_type": "code",
      "source": [],
      "metadata": {
        "id": "CTsMxXmcQ7Yy"
      },
      "execution_count": null,
      "outputs": []
    },
    {
      "cell_type": "code",
      "source": [
        "def removing_outlier(col):\n",
        "  sorted(col)\n",
        "  q1,q3=col.quantile([0.25,0.75])  # Quantile function divides the dataset in 25% and 75%\n",
        "  IQR=q3-q1                          #Interquartile range\n",
        "  lwr_bound=q1-(1.5*IQR)\n",
        "  upr_bound=q3+(1.5*IQR)\n",
        "  return lwr_bound,upr_bound"
      ],
      "metadata": {
        "id": "kRP-CDgdHpz8"
      },
      "execution_count": null,
      "outputs": []
    },
    {
      "cell_type": "code",
      "source": [
        "low,high=removing_outlier(df2['lead_time'])\n",
        "df2['lead_time']= np.where(df2['lead_time']< low,low,df2['lead_time'])\n",
        "#removing outlier from adr column\n",
        "low,high=removing_outlier(df2['adr'])\n",
        "df2['adr']=np.where(df2['adr']> high,high,df2['adr'])\n",
        "df2['adr']=np.where(df2['adr']< low,low,df2['adr'])\n",
        "#removing outlier from days_in_waiting list\n",
        "low,high=removing_outlier(df2['days_in_waiting_list'])\n",
        "df2['days_in_waiting_list']=np.where(df2['days_in_waiting_list']> high,high,df2['days_in_waiting_list'])\n",
        "df2['days_in_waiting_list']=np.where(df2['days_in_waiting_list']< low,low,df2['days_in_waiting_list'])"
      ],
      "metadata": {
        "id": "iAat0O2kQ8Tk"
      },
      "execution_count": null,
      "outputs": []
    },
    {
      "cell_type": "code",
      "source": [
        "#after removing outlier\n",
        "sns.set_style('whitegrid')\n",
        "plt.rc('font',size=20)\n",
        "plt.figure(figsize=(10,5))\n",
        "sns.boxplot(data=df2[['lead_time','adr','days_in_waiting_list']])\n",
        "plt.show()\n"
      ],
      "metadata": {
        "id": "6Kp2u1HrRg7l"
      },
      "execution_count": null,
      "outputs": []
    },
    {
      "cell_type": "code",
      "source": [
        "\n",
        "# Adding 'total_stay' column using 'stays_in_weekend_nights' & 'stays_in_week_nights' columns\n",
        "df2['total_stay'] = df2['stays_in_weekend_nights'] + df2['stays_in_week_nights']"
      ],
      "metadata": {
        "id": "U7BiExhpRq4r"
      },
      "execution_count": null,
      "outputs": []
    },
    {
      "cell_type": "code",
      "source": [
        "\n",
        "#adding 'total_guest' column using 'aduts','children' and 'babies' columns\n",
        "df2['total_guests']=df2['adults']+df2['children']+df2['babies']\n",
        "df2['total_guests'] = df2['total_guests'].astype(int)"
      ],
      "metadata": {
        "id": "mGSMn4EkRy7i"
      },
      "execution_count": null,
      "outputs": []
    },
    {
      "cell_type": "code",
      "source": [
        "#adding revenue column\n",
        "df2['revenue']=df2['total_stay']*df['adr']"
      ],
      "metadata": {
        "id": "OSrZeBIaR9Cz"
      },
      "execution_count": null,
      "outputs": []
    },
    {
      "cell_type": "code",
      "source": [
        "df2.head()"
      ],
      "metadata": {
        "id": "tVtUmSrd8tXI"
      },
      "execution_count": null,
      "outputs": []
    },
    {
      "cell_type": "code",
      "source": [
        "#meal contains undefined column which is same as 'SC' so we will combine them\n",
        "df2['meal'].replace('Undefined','SC',inplace=True)"
      ],
      "metadata": {
        "id": "JffWVNJjSEgV"
      },
      "execution_count": null,
      "outputs": []
    },
    {
      "cell_type": "code",
      "source": [
        "\n",
        "#find out most common meal type in percentage\n",
        "df2.meal.value_counts(normalize=True)*100"
      ],
      "metadata": {
        "id": "FBGiUXdRSMdh"
      },
      "execution_count": null,
      "outputs": []
    },
    {
      "cell_type": "markdown",
      "source": [
        "As per the above output most preferred meal is BB which is 77.318033 percent  "
      ],
      "metadata": {
        "id": "gA300X-DZdGs"
      }
    },
    {
      "cell_type": "code",
      "source": [
        "# Chart - 1 visualization code\n",
        "df2['hotel'].value_counts(normalize=True)*100"
      ],
      "metadata": {
        "id": "MkGkuDHXZ6W3"
      },
      "execution_count": null,
      "outputs": []
    },
    {
      "cell_type": "markdown",
      "source": [
        "As per the output the booking of the city hotels is more which is 66.44 percent as compared to Resort booking which is 33.55 percent"
      ],
      "metadata": {
        "id": "wkh2cyTAaOje"
      }
    },
    {
      "cell_type": "code",
      "source": [
        "df2['is_canceled'].value_counts(normalize=True)*100"
      ],
      "metadata": {
        "id": "l8x3YCuaafAW"
      },
      "execution_count": null,
      "outputs": []
    },
    {
      "cell_type": "code",
      "source": [
        "df2.groupby('hotel')['is_canceled'].value_counts(normalize=True)*100"
      ],
      "metadata": {
        "id": "bxUeSQi6dIDT"
      },
      "execution_count": null,
      "outputs": []
    },
    {
      "cell_type": "markdown",
      "source": [
        "Hotel booking cancellation is more that the resort booking\n"
      ],
      "metadata": {
        "id": "WfX3vt-raoF2"
      }
    },
    {
      "cell_type": "code",
      "source": [],
      "metadata": {
        "id": "Ekl1UM3obKky"
      },
      "execution_count": null,
      "outputs": []
    },
    {
      "cell_type": "code",
      "source": [
        "df2['arrival_date_month'].value_counts(normalize=True)*100"
      ],
      "metadata": {
        "id": "OBog24oqawRI"
      },
      "execution_count": null,
      "outputs": []
    },
    {
      "cell_type": "code",
      "source": [
        "#comparision between city hotel and resort hotel cancellation\n",
        "df2.groupby('hotel')['is_canceled'].value_counts(normalize=True)*100\n"
      ],
      "metadata": {
        "id": "JR39BLaTxy6I"
      },
      "execution_count": null,
      "outputs": []
    },
    {
      "cell_type": "code",
      "source": [
        "#from which country maximum guest arrived\n",
        "df2.country.value_counts()"
      ],
      "metadata": {
        "id": "1WVxD83Lxxe1"
      },
      "execution_count": null,
      "outputs": []
    },
    {
      "cell_type": "markdown",
      "source": [
        "Most of the Customers belong to Portugal and Great britan"
      ],
      "metadata": {
        "id": "3V3qc6rb1XxY"
      }
    },
    {
      "cell_type": "markdown",
      "source": [],
      "metadata": {
        "id": "tAW9gK6G1q-l"
      }
    },
    {
      "cell_type": "code",
      "source": [
        "#is repeated guest or not\n",
        "df2.is_repeated_guest.value_counts(normalize=True)*100"
      ],
      "metadata": {
        "id": "lDPxeE7g1nT7"
      },
      "execution_count": null,
      "outputs": []
    },
    {
      "cell_type": "markdown",
      "source": [
        "3.1 percent  customer are repeate customers 96.80 customer were new customers"
      ],
      "metadata": {
        "id": "H9Vq87CU1tL3"
      }
    },
    {
      "cell_type": "code",
      "source": [
        "avg_adr = df2[\"adr\"].mean()\n",
        "avg_adr"
      ],
      "metadata": {
        "id": "QgyWxa0b1_Z6"
      },
      "execution_count": null,
      "outputs": []
    },
    {
      "cell_type": "code",
      "source": [
        "#Month wise comparision of the number of bookings as per category of resort hotel and city hotel\n",
        "df2.groupby('hotel')[\"arrival_date_month\"].value_counts(normalize=True)*100"
      ],
      "metadata": {
        "id": "SstCtBhnbolp"
      },
      "execution_count": null,
      "outputs": []
    },
    {
      "cell_type": "markdown",
      "source": [
        "outliers present in each column were found out; lead_time,adr,days_in_waiting_list columns had outlier, those were removed.\n",
        "'total_stay' column was created using  'stays_in_weekend_nights' & 'stays_in_week_nights' columns.\n",
        "'total_guests' column was created using 'aduts','children' and 'babies' columns\n",
        "\n",
        "Around 77% customers has opted for BB type meal\n",
        "Around 61% customers booked city hotel with maximun average adr\n",
        "2016 and August was the peak year and month respectively for the booking *Maximum number of customer came from portugal followed by Great Britain,Fance and spain\n",
        "Around 72% customers were Transient type\n",
        "Around 97% of the customers were having first booking to the hotel\n",
        "A type room was assigned to around 52% of the customer\n",
        "city hotel was having maximum cancelation of the booking (around 30%)"
      ],
      "metadata": {
        "id": "-uKC_BNUa8wK"
      }
    },
    {
      "cell_type": "markdown",
      "source": [
        "## ***4. Data Vizualization, Storytelling & Experimenting with charts : Understand the relationships between variables***"
      ],
      "metadata": {
        "id": "GF8Ens_Soomf"
      }
    },
    {
      "cell_type": "markdown",
      "source": [
        "#### chat 1  Histogram"
      ],
      "metadata": {
        "id": "0wOQAZs5pc--"
      }
    },
    {
      "cell_type": "code",
      "source": [
        "\n",
        "#using histogram to plot 'Hotel Booking'\n",
        "sns.set_style('whitegrid')\n",
        "plt.rc('font',size=10)\n",
        "plt.figure(figsize=(5,5))\n",
        "df2['hotel'].hist()\n",
        "plt.title('Type of Hotel Booked',fontsize=15)\n",
        "plt.show()\n",
        "\n",
        "plt.pie(x=df2.hotel.value_counts(),explode=[0.01,0],labels=['City Hotel','Resort Hotel'],autopct=\"%0.1f%%\",shadow=True,textprops={'fontsize':13})\n",
        "plt.legend(bbox_to_anchor=(1,1))\n",
        "plt.title('Type of Hotel Booked',fontsize=16)\n",
        "plt.show()"
      ],
      "metadata": {
        "id": "7v_ESjsspbW7"
      },
      "execution_count": null,
      "outputs": []
    },
    {
      "cell_type": "code",
      "source": [
        "sns.set_style('whitegrid')\n",
        "plt.rc('font',size=10)\n",
        "plt.figure(figsize=(5,5))\n",
        "df2['meal'].hist()\n",
        "plt.title('Type of meal taken',fontsize=15)\n",
        "plt.show()\n",
        "\n"
      ],
      "metadata": {
        "id": "c9yIRcX3MbFl"
      },
      "execution_count": null,
      "outputs": []
    },
    {
      "cell_type": "markdown",
      "source": [
        "##### 1. Why did you pick the specific chart?"
      ],
      "metadata": {
        "id": "K5QZ13OEpz2H"
      }
    },
    {
      "cell_type": "markdown",
      "source": [
        "Histogram shows frequency distribution as per category.Histograms help present the data in the form of categories like num of bookings in city hotel and number of bookings in resort hotel . Similarly it gives us a chart that tell us which meal is most preferred and which is not\n"
      ],
      "metadata": {
        "id": "m1rS_agBnkaQ"
      }
    },
    {
      "cell_type": "markdown",
      "source": [
        "2) what insight did we get"
      ],
      "metadata": {
        "id": "JOHshpImolG0"
      }
    },
    {
      "cell_type": "markdown",
      "source": [
        "We got to know that the number of city hotel booking are more. The most preffered meal is BB"
      ],
      "metadata": {
        "id": "6r1zTBiDopvc"
      }
    },
    {
      "cell_type": "markdown",
      "source": [
        "##### 3. Will the gained insights help creating a positive business impact?\n",
        "Are there any insights that lead to negative growth? Justify with specific reason."
      ],
      "metadata": {
        "id": "448CDAPjqfQr"
      }
    },
    {
      "cell_type": "markdown",
      "source": [
        "The city hotel have more booking than resort hotel. So business must focus on increasing the resort hotel booking"
      ],
      "metadata": {
        "id": "3cspy4FjqxJW"
      }
    },
    {
      "cell_type": "markdown",
      "source": [
        "#### Chart - 2"
      ],
      "metadata": {
        "id": "KSlN3yHqYklG"
      }
    },
    {
      "cell_type": "code",
      "source": [
        "\n",
        "# Chart - 2 visualization code\n",
        "#univariate analysis\n",
        "#using seaborn countplot to plot Meal\n",
        "sns.set_style('whitegrid')\n",
        "plt.figure(figsize=(10,7))\n",
        "sns.countplot(x=df2['meal'])\n",
        "plt.xlabel('Meal Type',fontsize=20)\n",
        "plt.title('Preferred Meal Type',fontsize=20)\n",
        "plt.show()"
      ],
      "metadata": {
        "id": "R4YgtaqtYklH"
      },
      "execution_count": null,
      "outputs": []
    },
    {
      "cell_type": "markdown",
      "source": [
        "##### 1. Why did you pick the specific chart?"
      ],
      "metadata": {
        "id": "t6dVpIINYklI"
      }
    },
    {
      "cell_type": "markdown",
      "source": [
        "Count plot takes datatype as categorial. Here it gives count of observations in each bin"
      ],
      "metadata": {
        "id": "5aaW0BYyYklI"
      }
    },
    {
      "cell_type": "markdown",
      "source": [
        "##### 2. What is/are the insight(s) found from the chart?"
      ],
      "metadata": {
        "id": "ijmpgYnKYklI"
      }
    },
    {
      "cell_type": "markdown",
      "source": [
        "We found that the order of BB type of meal is more that 80000 where as others meal types we ordered less than 20000 times"
      ],
      "metadata": {
        "id": "PSx9atu2YklI"
      }
    },
    {
      "cell_type": "markdown",
      "source": [
        "##### 3. Will the gained insights help creating a positive business impact?\n",
        "Are there any insights that lead to negative growth? Justify with specific reason."
      ],
      "metadata": {
        "id": "-JiQyfWJYklI"
      }
    },
    {
      "cell_type": "markdown",
      "source": [
        "The only meal the customer prefer is BB . That means other meals are expensive or not good as compared to BB. Business should focus on serving good meals to retain or attract customer"
      ],
      "metadata": {
        "id": "BcBbebzrYklV"
      }
    },
    {
      "cell_type": "markdown",
      "source": [
        "#### Chart - 3"
      ],
      "metadata": {
        "id": "EM7whBJCYoAo"
      }
    },
    {
      "cell_type": "code",
      "source": [
        "plt.figure(figsize=(15,7))\n",
        "sns.set_style('whitegrid')\n",
        "plt.rc('font',size=15)\n",
        "sns.countplot(x='arrival_date_year',data=df2,hue='hotel')\n",
        "plt.legend()\n",
        "plt.title('Peak year of Booking',fontsize=20)\n",
        "plt.xlabel('year',fontsize=20)\n",
        "plt.ylabel('No. of bookings',fontsize=20)\n",
        "plt.show()"
      ],
      "metadata": {
        "id": "t6GMdE67YoAp"
      },
      "execution_count": null,
      "outputs": []
    },
    {
      "cell_type": "code",
      "source": [
        "plt.figure(figsize=(15,7))\n",
        "sns.set_style('whitegrid')\n",
        "plt.rc('font',size=15)\n",
        "sns.countplot(x='customer_type',data=df2,hue='distribution_channel')\n",
        "plt.legend()\n",
        "plt.title('Booking pattern',fontsize=20)\n",
        "plt.xlabel('Type of Customers',fontsize=20)\n",
        "plt.ylabel('No. of bookings',fontsize=20)\n",
        "plt.show()"
      ],
      "metadata": {
        "id": "XSDkD50wS7qG"
      },
      "execution_count": null,
      "outputs": []
    },
    {
      "cell_type": "markdown",
      "source": [
        "##### 1. Why did you pick the specific chart?"
      ],
      "metadata": {
        "id": "fge-S5ZAYoAp"
      }
    },
    {
      "cell_type": "markdown",
      "source": [
        "The count plot shows the count of the booking according to the category. for example the category type has 4 divisions(Transient,contract, transient party, group) the type of customer selected a channel for booking . This is reflected in the graph"
      ],
      "metadata": {
        "id": "5dBItgRVYoAp"
      }
    },
    {
      "cell_type": "markdown",
      "source": [
        "##### 2. What is/are the insight(s) found from the chart?"
      ],
      "metadata": {
        "id": "85gYPyotYoAp"
      }
    },
    {
      "cell_type": "markdown",
      "source": [
        "We found out that most of the booking are through travel Agent of travel office.The customer type transient has highest number of booking and it is also mostly booked through TA or TO"
      ],
      "metadata": {
        "id": "4jstXR6OYoAp"
      }
    },
    {
      "cell_type": "markdown",
      "source": [
        "##### 3. Will the gained insights help creating a positive business impact?\n",
        "Are there any insights that lead to negative growth? Justify with specific reason."
      ],
      "metadata": {
        "id": "RoGjAbkUYoAp"
      }
    },
    {
      "cell_type": "markdown",
      "source": [
        "Most of the bookings are through TA . That means the other booking types corperate , GDS , online are not explored. Exploring and promoting these booking types will increase the number of bookings"
      ],
      "metadata": {
        "id": "zfJ8IqMcYoAp"
      }
    },
    {
      "cell_type": "markdown",
      "source": [
        "#### Chart - 4"
      ],
      "metadata": {
        "id": "4Of9eVA-YrdM"
      }
    },
    {
      "cell_type": "code",
      "source": [
        "df3 = df2[df2['is_canceled'] == 1]\n",
        "\n",
        "plt.figure(figsize=(15, 7))\n",
        "sns.set_style('whitegrid')\n",
        "plt.rc('font', size=15)\n",
        "\n",
        "# Create the count plot with a hue for the 'deposit_type'\n",
        "sns.countplot(x='arrival_date_year', hue='deposit_type', data=df3)\n",
        "\n",
        "# Customize the plot\n",
        "plt.legend(title='Deposit Type', loc='upper right')\n",
        "plt.title('Year-wise Booking Cancellation', fontsize=20)\n",
        "plt.xlabel('Year', fontsize=20)\n",
        "plt.ylabel('Number of Booking Cancellations', fontsize=20)\n",
        "plt.xticks(rotation=45)  # Rotate x-axis labels if necessary for better readability\n",
        "\n",
        "plt.show()"
      ],
      "metadata": {
        "id": "0XTSm7FpMAoR"
      },
      "execution_count": null,
      "outputs": []
    },
    {
      "cell_type": "markdown",
      "source": [],
      "metadata": {
        "id": "hAL4EfuwMHfx"
      }
    },
    {
      "cell_type": "code",
      "source": [
        "\n",
        "df2['days_in_waiting_list'].mean()"
      ],
      "metadata": {
        "id": "YKGyp9MlxTrE"
      },
      "execution_count": null,
      "outputs": []
    },
    {
      "cell_type": "code",
      "source": [
        "plt.figure(figsize=(8, 6))\n",
        "plt.scatter(df2['lead_time'], df2['days_in_waiting_list'])\n",
        "plt.xlabel('Lead Time')\n",
        "plt.ylabel('Days in Waiting List')\n",
        "plt.title('Scatter Plot: Days in Waiting List vs Lead Time')\n",
        "plt.grid(True)\n",
        "plt.show()"
      ],
      "metadata": {
        "id": "irlUoxc8YrdO"
      },
      "execution_count": null,
      "outputs": []
    },
    {
      "cell_type": "markdown",
      "source": [
        "##### 1. Why did you pick the specific chart?"
      ],
      "metadata": {
        "id": "iky9q4vBYrdO"
      }
    },
    {
      "cell_type": "markdown",
      "source": [
        "scatter plot gives the relation between two variables , we wanted to fing the relation between the lead time and the ways in waiting"
      ],
      "metadata": {
        "id": "aJRCwT6DYrdO"
      }
    },
    {
      "cell_type": "markdown",
      "source": [
        "##### 2. What is/are the insight(s) found from the chart?"
      ],
      "metadata": {
        "id": "F6T5p64dYrdO"
      }
    },
    {
      "cell_type": "markdown",
      "source": [
        "It has been found that the for all the orders, irrespective of the lead time that waiting time is zero . So there is no delay in booking the rooms . Which is a good thing.But this also means that the rooms are vacant and available. So there is no scarcity shown to the customer"
      ],
      "metadata": {
        "id": "Xx8WAJvtYrdO"
      }
    },
    {
      "cell_type": "markdown",
      "source": [
        "Hotel management accepts the booking on time . This means that the booking gets confirmed soon. Some booking are refundable and some are not. The bookings that are not refundable do not get cancelled So Hotel managemet shoulf enforce the policy of non refundable bookings."
      ],
      "metadata": {
        "id": "y-Ehk30pYrdP"
      }
    },
    {
      "cell_type": "markdown",
      "source": [
        "Answer Here"
      ],
      "metadata": {
        "id": "jLNxxz7MYrdP"
      }
    },
    {
      "cell_type": "code",
      "source": [
        "df3 = df2[df2['is_canceled'] == 1]\n",
        "df3[df3['deposit_type'] == 'No Deposit'].shape[0]\n",
        ""
      ],
      "metadata": {
        "id": "R7RlzCzu52YY"
      },
      "execution_count": null,
      "outputs": []
    },
    {
      "cell_type": "code",
      "source": [
        "df3[df3['deposit_type'] == 'Non Refund'].shape[0]"
      ],
      "metadata": {
        "id": "4Eb_tXBO-1Qq"
      },
      "execution_count": null,
      "outputs": []
    },
    {
      "cell_type": "code",
      "source": [
        "df3[df3['deposit_type'] == 'Refundable'].shape[0]"
      ],
      "metadata": {
        "id": "CS-pPsFD--e1"
      },
      "execution_count": null,
      "outputs": []
    },
    {
      "cell_type": "markdown",
      "source": [
        "#### Chart - 5"
      ],
      "metadata": {
        "id": "bamQiAODYuh1"
      }
    },
    {
      "cell_type": "code",
      "source": [
        "# Chart - 5 visualization code\n",
        "df3=df2[df2['is_canceled']==1]\n",
        "plt.figure(figsize=(15,7))\n",
        "sns.set_style('whitegrid')\n",
        "plt.rc('font',size=15)\n",
        "sns.countplot(x=df3['arrival_date_year'],hue=df3['deposit_type'])\n",
        "plt.legend()\n",
        "plt.title('Year wise Booking Cancelation',fontsize=20)\n",
        "plt.xlabel('year',fontsize=20)\n",
        "plt.ylabel('No. of bookings Cancelation',fontsize=20)\n",
        "plt.show()"
      ],
      "metadata": {
        "id": "TIJwrbroYuh3"
      },
      "execution_count": null,
      "outputs": []
    },
    {
      "cell_type": "markdown",
      "source": [
        "##### 1. Why did you pick the specific chart?"
      ],
      "metadata": {
        "id": "QHF8YVU7Yuh3"
      }
    },
    {
      "cell_type": "markdown",
      "source": [
        "The count plot gives us count of the cancellation across years as per the type of deposit"
      ],
      "metadata": {
        "id": "dcxuIMRPYuh3"
      }
    },
    {
      "cell_type": "markdown",
      "source": [
        "##### 2. What is/are the insight(s) found from the chart?"
      ],
      "metadata": {
        "id": "GwzvFGzlYuh3"
      }
    },
    {
      "cell_type": "markdown",
      "source": [
        "most of the booking that got cancelled are have the deposit type as no deposit .\n",
        "The booking that got canceled and have the deposit type as redundable we negligible\n",
        "The bookings that got cancelled and have the deposit type as No refund we cancelled less ."
      ],
      "metadata": {
        "id": "uyqkiB8YYuh3"
      }
    },
    {
      "cell_type": "markdown",
      "source": [
        "##### 3. Will the gained insights help creating a positive business impact?\n",
        "Deposit type play important role while booking . If the customer gives no deposit then he has nothing to loose. If he had a non refund booking then the customer will loose money. So customer are hesitant to cancel the booking if there are chances of loosing money."
      ],
      "metadata": {
        "id": "qYpmQ266Yuh3"
      }
    },
    {
      "cell_type": "markdown",
      "source": [
        "The booking which have the deposit type as no deposit are cancelled mostly. THe bookings which have deposit type as Non Refund are also cancelled"
      ],
      "metadata": {
        "id": "_WtzZ_hCYuh4"
      }
    },
    {
      "cell_type": "markdown",
      "source": [
        "#### Chart - 6"
      ],
      "metadata": {
        "id": "OH-pJp9IphqM"
      }
    },
    {
      "cell_type": "code",
      "source": [
        "# Chart - 6 visualization code\n",
        "# bivaraite analysis\n",
        "# find out what is preferred length of stay by the customers\n",
        "stay = df2[df2['total_stay'] < 10]   #considering maximun for 10 days stay\n",
        "plt.figure(figsize = (10,7))\n",
        "sns.countplot(x = stay['total_stay'], hue = stay['hotel'])\n",
        "plt.show()\n",
        "\n"
      ],
      "metadata": {
        "id": "kuRf4wtuphqN"
      },
      "execution_count": null,
      "outputs": []
    },
    {
      "cell_type": "markdown",
      "source": [
        "##### 1. Why did you pick the specific chart?"
      ],
      "metadata": {
        "id": "bbFf2-_FphqN"
      }
    },
    {
      "cell_type": "markdown",
      "source": [
        "This chart gives the count of number of stays and the number of bookings along with the type of the hotel.\n",
        "2 days of stay is booked by more frequently , the bookings is done for city hotel is  20000 and booking done for resort hotel is around 2500 times for customer"
      ],
      "metadata": {
        "id": "loh7H2nzphqN"
      }
    },
    {
      "cell_type": "markdown",
      "source": [
        "##### 2. What is/are the insight(s) found from the chart?"
      ],
      "metadata": {
        "id": "_ouA3fa0phqN"
      }
    },
    {
      "cell_type": "markdown",
      "source": [
        "For Resot Hotel maximum customers prefer 1 day of stay\n",
        "For City Hotel maximum customers prefer 3 days of stay"
      ],
      "metadata": {
        "id": "VECbqPI7phqN"
      }
    },
    {
      "cell_type": "markdown",
      "source": [
        "##### 3. Will the gained insights help creating a positive business impact?\n",
        "Are there any insights that lead to negative growth? Justify with specific reason."
      ],
      "metadata": {
        "id": "Seke61FWphqN"
      }
    },
    {
      "cell_type": "markdown",
      "source": [
        "nummber of stays is 2 and 3 . Booking is mostly done for city hotels"
      ],
      "metadata": {
        "id": "DW4_bGpfphqN"
      }
    },
    {
      "cell_type": "markdown",
      "source": [
        "#### Chart - 7"
      ],
      "metadata": {
        "id": "PIIx-8_IphqN"
      }
    },
    {
      "cell_type": "code",
      "source": [
        "# Chart - 7 visualization code\n",
        "plt.figure(figsize=(7,7))\n",
        "plt.pie(df2.market_segment.value_counts(),labels=['Online TA','Offline TA/TO','Direct','Groups','Corporate','Complementary','Aviation','Undefined'],autopct=\"%0.1f%%\",shadow=True,textprops={'fontsize':13})\n",
        "plt.legend(bbox_to_anchor=(1.5,1))\n",
        "plt.title('Distribution through different channels')\n",
        "plt.show()"
      ],
      "metadata": {
        "id": "lqAIGUfyphqO"
      },
      "execution_count": null,
      "outputs": []
    },
    {
      "cell_type": "markdown",
      "source": [
        "##### 1. Why did you pick the specific chart?"
      ],
      "metadata": {
        "id": "t27r6nlMphqO"
      }
    },
    {
      "cell_type": "markdown",
      "source": [
        "round 59% of the booking is done by online Travel Agent followed by the 16% offline Travel agentAnswer Here."
      ],
      "metadata": {
        "id": "iv6ro40sphqO"
      }
    },
    {
      "cell_type": "markdown",
      "source": [
        "##### 2. What is/are the insight(s) found from the chart?"
      ],
      "metadata": {
        "id": "r2jJGEOYphqO"
      }
    },
    {
      "cell_type": "markdown",
      "source": [
        "Answer Here"
      ],
      "metadata": {
        "id": "Po6ZPi4hphqO"
      }
    },
    {
      "cell_type": "markdown",
      "source": [
        "##### 3. Will the gained insights help creating a positive business impact?\n",
        "Are there any insights that lead to negative growth? Justify with specific reason."
      ],
      "metadata": {
        "id": "b0JNsNcRphqO"
      }
    },
    {
      "cell_type": "markdown",
      "source": [
        "Efforts should be made by the Hotel management to attract customers to book from company website directly"
      ],
      "metadata": {
        "id": "xvSq8iUTphqO"
      }
    },
    {
      "cell_type": "markdown",
      "source": [
        "#### Chart - 8"
      ],
      "metadata": {
        "id": "BZR9WyysphqO"
      }
    },
    {
      "cell_type": "code",
      "source": [
        "# Chart - 8 visualization code\n",
        "# Chart - 9 visualization code\n",
        "# To know most preferred distribution channel for booking\n",
        "plt.figure(figsize=(17,7))\n",
        "sns.set_style('whitegrid')\n",
        "plt.rc('font',size=15)\n",
        "sns.countplot(x='distribution_channel',data=df2)\n",
        "plt.title('Distribution through different channels',fontsize=20)\n",
        "plt.xlabel('Type of distribution channel',fontsize=20)\n",
        "plt.ylabel('No. of bookings',fontsize=20)\n",
        "plt.show()"
      ],
      "metadata": {
        "id": "TdPTWpAVphqO"
      },
      "execution_count": null,
      "outputs": []
    },
    {
      "cell_type": "markdown",
      "source": [
        "##### 1. Why did you pick the specific chart?"
      ],
      "metadata": {
        "id": "jj7wYXLtphqO"
      }
    },
    {
      "cell_type": "markdown",
      "source": [
        "I picked up seaborn countplot to analyze which type of distribution mostly used by the customers for booking"
      ],
      "metadata": {
        "id": "Ob8u6rCTphqO"
      }
    },
    {
      "cell_type": "markdown",
      "source": [
        "##### 2. What is/are the insight(s) found from the chart?"
      ],
      "metadata": {
        "id": "eZrbJ2SmphqO"
      }
    },
    {
      "cell_type": "markdown",
      "source": [
        "Answer Here"
      ],
      "metadata": {
        "id": "mZtgC_hjphqO"
      }
    },
    {
      "cell_type": "markdown",
      "source": [
        "##### 3. Will the gained insights help creating a positive business impact?\n",
        "Are there any insights that lead to negative growth? Justify with specific reason."
      ],
      "metadata": {
        "id": "rFu4xreNphqO"
      }
    },
    {
      "cell_type": "markdown",
      "source": [
        "It was found out that 79% of hotel booking is done by travel agents/travel operators followed by the Direct i.e 15%"
      ],
      "metadata": {
        "id": "ey_0qi68phqO"
      }
    },
    {
      "cell_type": "markdown",
      "source": [
        "#### Chart - 9"
      ],
      "metadata": {
        "id": "YJ55k-q6phqO"
      }
    },
    {
      "cell_type": "code",
      "source": [
        "# Chart - 9 visualization code\n",
        "#univariate analysis\n",
        "#To check how much percentage of customers repeats the hotel booking\n",
        "plt.figure(figsize=(7,7))\n",
        "plt.pie(df2.is_repeated_guest.value_counts(),labels=['Not_repeated','Repeated'],explode=[0,0.3],autopct=\"%0.1f%%\",shadow=True,textprops={'fontsize':13})\n",
        "plt.legend(bbox_to_anchor=(1,1))\n",
        "plt.title('Guest repeating Status')\n",
        "plt.show()"
      ],
      "metadata": {
        "id": "B2aS4O1ophqO"
      },
      "execution_count": null,
      "outputs": []
    },
    {
      "cell_type": "markdown",
      "source": [
        "##### 1. Why did you pick the specific chart?"
      ],
      "metadata": {
        "id": "gCFgpxoyphqP"
      }
    },
    {
      "cell_type": "markdown",
      "source": [
        "I have choosen pie chart to find put how much percentage of guests has booked the hotel repeatedly and how much has first visit"
      ],
      "metadata": {
        "id": "TVxDimi2phqP"
      }
    },
    {
      "cell_type": "markdown",
      "source": [
        "##### 2. What is/are the insight(s) found from the chart?"
      ],
      "metadata": {
        "id": "OVtJsKN_phqQ"
      }
    },
    {
      "cell_type": "markdown",
      "source": [
        "I found out that only 4% of the guests has done repeated booking over these 3 years"
      ],
      "metadata": {
        "id": "ngGi97qjphqQ"
      }
    },
    {
      "cell_type": "markdown",
      "source": [
        "##### 3. Will the gained insights help creating a positive business impact?\n",
        "Are there any insights that lead to negative growth? Justify with specific reason."
      ],
      "metadata": {
        "id": "lssrdh5qphqQ"
      }
    },
    {
      "cell_type": "markdown",
      "source": [
        "The Hotel management can start membership plans and give spcial offers for the repeated customers"
      ],
      "metadata": {
        "id": "tBpY5ekJphqQ"
      }
    },
    {
      "cell_type": "markdown",
      "source": [
        "#### Chart - 10"
      ],
      "metadata": {
        "id": "U2RJ9gkRphqQ"
      }
    },
    {
      "cell_type": "code",
      "source": [
        "# Chart - 10 visualization code\n",
        "\n",
        "# To find out peak year of booking\n",
        "#bivariate analysis\n",
        "plt.figure(figsize=(15,7))\n",
        "sns.set_style('whitegrid')\n",
        "plt.rc('font',size=15)\n",
        "sns.countplot(x='arrival_date_year',data=df2,hue='hotel')\n",
        "plt.legend()\n",
        "plt.title('Peak year of Booking',fontsize=20)\n",
        "plt.xlabel('year',fontsize=20)\n",
        "plt.ylabel('No. of bookings',fontsize=20)\n",
        "plt.show()"
      ],
      "metadata": {
        "id": "GM7a4YP4phqQ"
      },
      "execution_count": null,
      "outputs": []
    },
    {
      "cell_type": "markdown",
      "source": [
        "##### 1. Why did you pick the specific chart?"
      ],
      "metadata": {
        "id": "1M8mcRywphqQ"
      }
    },
    {
      "cell_type": "markdown",
      "source": [
        "I have select count plot to find out peak year of booking"
      ],
      "metadata": {
        "id": "8agQvks0phqQ"
      }
    },
    {
      "cell_type": "markdown",
      "source": [
        "##### 2. What is/are the insight(s) found from the chart?"
      ],
      "metadata": {
        "id": "tgIPom80phqQ"
      }
    },
    {
      "cell_type": "markdown",
      "source": [
        "It has been found out that 2016 was the peak year for both the hotels"
      ],
      "metadata": {
        "id": "Qp13pnNzphqQ"
      }
    },
    {
      "cell_type": "markdown",
      "source": [
        "##### 3. Will the gained insights help creating a positive business impact?\n",
        "Are there any insights that lead to negative growth? Justify with specific reason."
      ],
      "metadata": {
        "id": "JMzcOPDDphqR"
      }
    },
    {
      "cell_type": "markdown",
      "source": [
        "Both the Hotels has Earned more revenue in year 2016 but the booking has decreased in 2017 so hotel management needs to look into this matter"
      ],
      "metadata": {
        "id": "R4Ka1PC2phqR"
      }
    },
    {
      "cell_type": "markdown",
      "source": [
        "#### Chart - 11"
      ],
      "metadata": {
        "id": "x-EpHcCOp1ci"
      }
    },
    {
      "cell_type": "code",
      "source": [
        "# Chart - 11 visualization code\n",
        "df3=df2[df2['is_canceled']==0]\n",
        "plt.figure(figsize=(15,8))\n",
        "sns.set_style('whitegrid')\n",
        "plt.rc('font',size=15)\n",
        "sns.set(font_scale=1.20)\n",
        "sns.countplot(x=df2['arrival_date_month'],hue=df2['hotel'],order=['January', 'February', 'March', 'April', 'May', 'June', 'July',\n",
        "          'August', 'September', 'October', 'November', 'December'])\n",
        "plt.legend()\n",
        "plt.title('Peak Month of Booking',fontsize=20)\n",
        "plt.xlabel('Month',fontsize=20)\n",
        "plt.ylabel('Non cancelled bookings',fontsize=20)\n",
        "plt.show()\n"
      ],
      "metadata": {
        "id": "mAQTIvtqp1cj"
      },
      "execution_count": null,
      "outputs": []
    },
    {
      "cell_type": "markdown",
      "source": [
        "##### 1. Why did you pick the specific chart?"
      ],
      "metadata": {
        "id": "X_VqEhTip1ck"
      }
    },
    {
      "cell_type": "markdown",
      "source": [
        "I selected countplot to find out Peak Month of Booking"
      ],
      "metadata": {
        "id": "-vsMzt_np1ck"
      }
    },
    {
      "cell_type": "markdown",
      "source": [
        "##### 2. What is/are the insight(s) found from the chart?"
      ],
      "metadata": {
        "id": "8zGJKyg5p1ck"
      }
    },
    {
      "cell_type": "markdown",
      "source": [
        "It has been found that July and August are the Peak month of Booking"
      ],
      "metadata": {
        "id": "ZYdMsrqVp1ck"
      }
    },
    {
      "cell_type": "markdown",
      "source": [
        "##### 3. Will the gained insights help creating a positive business impact?\n",
        "Are there any insights that lead to negative growth? Justify with specific reason."
      ],
      "metadata": {
        "id": "PVzmfK_Ep1ck"
      }
    },
    {
      "cell_type": "markdown",
      "source": [
        "July and August has maximun bookings for both type of hotels, The hotel management can advertise maximum in these months and can provide special discounts to attract more customers"
      ],
      "metadata": {
        "id": "druuKYZpp1ck"
      }
    },
    {
      "cell_type": "markdown",
      "source": [
        "#### Chart - 12"
      ],
      "metadata": {
        "id": "n3dbpmDWp1ck"
      }
    },
    {
      "cell_type": "code",
      "source": [
        "# Chart - 12 visualization code\n",
        "plt.figure(figsize=(17,7))\n",
        "sns.set_style('whitegrid')\n",
        "plt.rc('font',size=15)\n",
        "sns.countplot(x='total_of_special_requests',data=df2,hue='hotel')\n",
        "plt.legend(bbox_to_anchor=(.5,1))\n",
        "plt.title('Special Request by the customer',fontsize=20)\n",
        "plt.xlabel('No. of Requests',fontsize=20)\n",
        "plt.show()\n",
        "#find out percentage using pie chart\n",
        "plt.figure(figsize=(7,7))\n",
        "plt.pie(df2.total_of_special_requests.value_counts(),labels=['0-Request','1-Request','2-Requests','3-Requests','4-Requests','5-Requests'],autopct=\"%0.1f%%\",shadow=True,textprops={'fontsize':13})\n",
        "plt.legend(bbox_to_anchor=(1,1))\n",
        "plt.title('Special Request')\n",
        "plt.show()"
      ],
      "metadata": {
        "id": "bwevp1tKp1ck"
      },
      "execution_count": null,
      "outputs": []
    },
    {
      "cell_type": "markdown",
      "source": [
        "##### 1. Why did you pick the specific chart?"
      ],
      "metadata": {
        "id": "ylSl6qgtp1ck"
      }
    },
    {
      "cell_type": "markdown",
      "source": [
        "I have select countplot,pie chart to find out the No. and %age of special requests made by the customers"
      ],
      "metadata": {
        "id": "m2xqNkiQp1ck"
      }
    },
    {
      "cell_type": "markdown",
      "source": [
        "##### 2. What is/are the insight(s) found from the chart?"
      ],
      "metadata": {
        "id": "ZWILFDl5p1ck"
      }
    },
    {
      "cell_type": "markdown",
      "source": [
        "It has been found out that 50% ,33% of the customers has 0 or 1 special request respectively"
      ],
      "metadata": {
        "id": "x-lUsV2mp1ck"
      }
    },
    {
      "cell_type": "markdown",
      "source": [
        "##### 3. Will the gained insights help creating a positive business impact?\n",
        "Are there any insights that lead to negative growth? Justify with specific reason."
      ],
      "metadata": {
        "id": "M7G43BXep1ck"
      }
    },
    {
      "cell_type": "markdown",
      "source": [
        "Since most of the customers don't have any special request so all the basic needs are being provided by the hotel management"
      ],
      "metadata": {
        "id": "5wwDJXsLp1cl"
      }
    },
    {
      "cell_type": "markdown",
      "source": [
        "#### Chart - 13"
      ],
      "metadata": {
        "id": "Ag9LCva-p1cl"
      }
    },
    {
      "cell_type": "code",
      "source": [
        "total_booking = df2[df2['is_canceled'] == 0]\n",
        "#total_booking.shape\n",
        "avg_adr = total_booking['adr'].mean()\n",
        "avg_adr"
      ],
      "metadata": {
        "id": "pdjxk1FFVdgd"
      },
      "execution_count": null,
      "outputs": []
    },
    {
      "cell_type": "code",
      "source": [
        "# Chart - 13 visualization code  #considering maximun for 10 days stay\n",
        "#bivariate analysis\n",
        "#To find out Type of room assigned to the Guests w.r.t hotel type\n",
        "plt.figure(figsize=(17,7))\n",
        "sns.set_style('whitegrid')\n",
        "plt.rc('font',size=15)\n",
        "sns.countplot(x='assigned_room_type',data=df2,hue='hotel')\n",
        "plt.legend(bbox_to_anchor=(.5,1))\n",
        "plt.title('Type of Room assigned to Guests w.r.t Hotel Type',fontsize=20)\n",
        "plt.xlabel('Room Type',fontsize=20)\n",
        "plt.ylabel('No. of bookings',fontsize=20)\n",
        "plt.show()\n"
      ],
      "metadata": {
        "id": "EUfxeq9-p1cl"
      },
      "execution_count": null,
      "outputs": []
    },
    {
      "cell_type": "markdown",
      "source": [
        "##### 1. Why did you pick the specific chart?"
      ],
      "metadata": {
        "id": "E6MkPsBcp1cl"
      }
    },
    {
      "cell_type": "markdown",
      "source": [
        "I have choosen countplot to find out which type of room is mostly assigned to Guests"
      ],
      "metadata": {
        "id": "V22bRsFWp1cl"
      }
    },
    {
      "cell_type": "markdown",
      "source": [
        "##### 2. What is/are the insight(s) found from the chart?"
      ],
      "metadata": {
        "id": "2cELzS2fp1cl"
      }
    },
    {
      "cell_type": "markdown",
      "source": [
        "It has been find out that in both hotels A type of Room is mostly assigned to guests followed by the D type Room"
      ],
      "metadata": {
        "id": "ozQPc2_Ip1cl"
      }
    },
    {
      "cell_type": "markdown",
      "source": [
        "##### 3. Will the gained insights help creating a positive business impact?\n",
        "Are there any insights that lead to negative growth? Justify with specific reason."
      ],
      "metadata": {
        "id": "3MPXvC8up1cl"
      }
    },
    {
      "cell_type": "markdown",
      "source": [
        "It has find out that among all room types A and D are most commonly assigned to the Guest ,may be because of economical and better services"
      ],
      "metadata": {
        "id": "GL8l1tdLp1cl"
      }
    },
    {
      "cell_type": "markdown",
      "source": [
        "#### Chart - 14 - Correlation Heatmap"
      ],
      "metadata": {
        "id": "NC_X3p0fY2L0"
      }
    },
    {
      "cell_type": "code",
      "source": [],
      "metadata": {
        "id": "-D_W4Qmoc6Ri"
      },
      "execution_count": null,
      "outputs": []
    },
    {
      "cell_type": "code",
      "source": [
        "# Correlation Heatmap visualization code\n",
        "categorical_features = df2.select_dtypes(include=['object', 'category'])\n",
        "categorical_features.columns"
      ],
      "metadata": {
        "id": "xyC9zolEZNRQ"
      },
      "execution_count": null,
      "outputs": []
    },
    {
      "cell_type": "code",
      "source": [
        "dcorr = df2[['lead_time','previous_cancellations','previous_bookings_not_canceled','booking_changes','adr','required_car_parking_spaces','total_of_special_requests','total_stay','total_guests']]\n",
        "df_corr = dcorr.corr()\n",
        "f, ax = plt.subplots(figsize = (18,9))\n",
        "sns.heatmap(df_corr, annot = True, fmt='.2f', annot_kws =  {'size': 15}, vmax = .99, square = True)\n",
        "plt.show()"
      ],
      "metadata": {
        "id": "atY3AhSHfIKY"
      },
      "execution_count": null,
      "outputs": []
    },
    {
      "cell_type": "markdown",
      "source": [
        "##### 1. Why did you pick the specific chart?"
      ],
      "metadata": {
        "id": "UV0SzAkaZNRQ"
      }
    },
    {
      "cell_type": "markdown",
      "source": [
        "In order to find out co-relation between the variables"
      ],
      "metadata": {
        "id": "DVPuT8LYZNRQ"
      }
    },
    {
      "cell_type": "code",
      "source": [],
      "metadata": {
        "id": "jYCmP99-fXEY"
      },
      "execution_count": null,
      "outputs": []
    },
    {
      "cell_type": "markdown",
      "source": [
        "##### 2. What is/are the insight(s) found from the chart?"
      ],
      "metadata": {
        "id": "YPEH6qLeZNRQ"
      }
    },
    {
      "cell_type": "markdown",
      "source": [
        "Total stay and the lead time have positive correlation, that means if customer plans to stay for longer they will do booking in advance\n",
        "ADR is positively correlated with total_people, more people means revenu"
      ],
      "metadata": {
        "id": "bfSqtnDqZNRR"
      }
    },
    {
      "cell_type": "markdown",
      "source": [
        "#### Chart - 15 - Pair Plot"
      ],
      "metadata": {
        "id": "q29F0dvdveiT"
      }
    },
    {
      "cell_type": "code",
      "source": [
        "# Pair Plot visualization code\n",
        "#scatter plot between adr and total_stay\n",
        "plt.figure(figsize = (18,9))\n",
        "sns.scatterplot(x= 'adr', y = 'total_stay', data = df2)\n",
        "plt.show()\n",
        ""
      ],
      "metadata": {
        "id": "o58-TEIhveiU"
      },
      "execution_count": null,
      "outputs": []
    },
    {
      "cell_type": "markdown",
      "source": [
        "##### 1. Why did you pick the specific chart?"
      ],
      "metadata": {
        "id": "EXh0U9oCveiU"
      }
    },
    {
      "cell_type": "markdown",
      "source": [
        "To compare the relationship between adr and total stay"
      ],
      "metadata": {
        "id": "eMmPjTByveiU"
      }
    },
    {
      "cell_type": "markdown",
      "source": [
        "##### 2. What is/are the insight(s) found from the chart?"
      ],
      "metadata": {
        "id": "22aHeOlLveiV"
      }
    },
    {
      "cell_type": "markdown",
      "source": [
        "Answer Here"
      ],
      "metadata": {
        "id": "uPQ8RGwHveiV"
      }
    },
    {
      "cell_type": "code",
      "source": [
        "Here it can be seen that if Guest stay is higher adr is decreasing, so longer stay customer is getting better dea"
      ],
      "metadata": {
        "id": "kstzOnJ8IhMA"
      },
      "execution_count": null,
      "outputs": []
    },
    {
      "cell_type": "markdown",
      "source": [
        "## **5. Solution to Business Objective**"
      ],
      "metadata": {
        "id": "JcMwzZxoAimU"
      }
    },
    {
      "cell_type": "markdown",
      "source": [
        "#### What do you suggest the client to achieve Business Objective ?\n",
        "Explain Briefly."
      ],
      "metadata": {
        "id": "8G2x9gOozGDZ"
      }
    },
    {
      "cell_type": "markdown",
      "source": [
        "The Hotel management can offer special packages which includes meal and other facilities to attract more travellers\n",
        "The Hotel management can also start membership plan with special discount to retain customers\n",
        "The Hotel management should look deeply into the reason why customer cancels the booking and should try to minimize the cancelation\n",
        "Hotel management should use social media to advertize more particulary in peak season\n",
        "The hotel management should collabrate with online/offline TA/TO and with other booking partners to get more customers\n",
        "Hotel management should focus that maximum booking should be done on company website or app\n",
        "The Hotel management can start attractive offers towards group booking and longer stay\n",
        "The hotel management should try to put more effort on analyzing every customer feedback in order to improve facilities\n",
        "In offseason the hotel management should provide special discount,in order to get customers in that season also\n",
        "The management should make deposit compulsory in order to secure the booking"
      ],
      "metadata": {
        "id": "pASKb0qOza21"
      }
    },
    {
      "cell_type": "markdown",
      "source": [
        "# **Conclusion**"
      ],
      "metadata": {
        "id": "gCX9965dhzqZ"
      }
    },
    {
      "cell_type": "markdown",
      "source": [
        "City Hotel is more likely booked by the customers and generates more revenue\n",
        "Bed & Breakfast is most prefered meal type opted by the customers\n",
        "2016 was the peak of booking for both the hotels\n",
        "July and August was the peak month of booking for both the hotels\n",
        "2-4 days is the average preferred length of stay in the hotel\n",
        "Maximun number of guests visiting the hotel belongs to portugal,Great Britain and France\n",
        "Room Type A is most preferred room assigned to the Guests\n",
        "G and H Type of room generates more revenue\n",
        "Majority of the Guests has first time visit to hotel\n",
        "Around 25-30% of the booking is getting canceled and more cancelation are from city hotel\n",
        "Transient Type of customers has done more bookings\n",
        "Majority of the customers has opted for No deposit\n",
        "Most number of guests don't have any special request\n",
        "Online trvel agent has more market segment for booking\n",
        "Total stay and lead time are positively correlated to each other\n",
        "longer stay customer is getting better deal"
      ],
      "metadata": {
        "id": "Fjb1IsQkh3yE"
      }
    },
    {
      "cell_type": "markdown",
      "source": [
        "### ***Hurrah! You have successfully completed your EDA Capstone Project !!!***"
      ],
      "metadata": {
        "id": "gIfDvo9L0UH2"
      }
    }
  ]
}